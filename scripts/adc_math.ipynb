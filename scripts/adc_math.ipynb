{
 "cells": [
  {
   "cell_type": "code",
   "execution_count": 135,
   "metadata": {},
   "outputs": [],
   "source": [
    "import math"
   ]
  },
  {
   "cell_type": "code",
   "execution_count": null,
   "metadata": {},
   "outputs": [],
   "source": [
    "bits = 6\n",
    "v_ref = 1.8\n",
    "\n",
    "lsb = v_ref/(2**bits)\n",
    "codes = 2**bits\n",
    "quant_error = lsb**2/12\n",
    "\n",
    "# alpha being 1 if the signal if full scale, 2 if half scale etc... \n",
    "# lose MSB of performance\n",
    "alpha = 1\n",
    "snr_sin = 6.02*bits + 1.76 - 20*math.log10(alpha)\n",
    "snr_random = 6.02*bits - 20*math.log10(alpha)\n",
    "\n",
    "# Components needed\n",
    "comparators_required = 2**bits-1\n",
    "resistors_required = 2**bits\n",
    "\n",
    "# Input SNR from simulation with full scale sin wave\n",
    "simulated_snr = 35\n",
    "enob = (simulated_snr-1.76)/6.02"
   ]
  },
  {
   "cell_type": "code",
   "execution_count": 137,
   "metadata": {},
   "outputs": [
    {
     "name": "stdout",
     "output_type": "stream",
     "text": [
      "LSB is 28.12 mV which is also the quant error with 64 total codes\n",
      "The quant noise power will be around 65.92 uV and RMS of 8.12 mV\n",
      "The SNR will be between 36.12 and 37.88 bits\n",
      "Simulated ENOB is 5.52 LSB\n",
      "A 6-bit Flash ADC would require 63 comparators and 64 resistors\n"
     ]
    }
   ],
   "source": [
    "print(f'LSB is {round(lsb*1e3,2)} mV which is also the quant error with {codes} total codes')\n",
    "print(f'The quant noise power will be around {round(quant_error*1e6,2)} uV and RMS of {round(math.sqrt(quant_error)*1e3,2)} mV')\n",
    "print(f'The SNR will be between {snr_random} and {round(snr_sin,2)} bits')\n",
    "print(f'Simulated ENOB is {round(enob,2)} LSB')\n",
    "print(f'A 6-bit Flash ADC would require {comparators_required} comparators and {resistors_required} resistors')\n"
   ]
  }
 ],
 "metadata": {
  "kernelspec": {
   "display_name": "Python 3",
   "language": "python",
   "name": "python3"
  },
  "language_info": {
   "codemirror_mode": {
    "name": "ipython",
    "version": 3
   },
   "file_extension": ".py",
   "mimetype": "text/x-python",
   "name": "python",
   "nbconvert_exporter": "python",
   "pygments_lexer": "ipython3",
   "version": "3.11.11"
  }
 },
 "nbformat": 4,
 "nbformat_minor": 2
}
